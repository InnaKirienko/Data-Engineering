{
 "cells": [
  {
   "cell_type": "code",
   "metadata": {
    "collapsed": true,
    "ExecuteTime": {
     "end_time": "2024-05-25T08:24:39.839552Z",
     "start_time": "2024-05-25T08:24:38.990110Z"
    }
   },
   "source": [
    "from pyspark.sql import SparkSession, functions as F, types as T"
   ],
   "outputs": [],
   "execution_count": 3
  },
  {
   "cell_type": "code",
   "metadata": {
    "collapsed": false,
    "pycharm": {
     "is_executing": true
    },
    "ExecuteTime": {
     "end_time": "2024-05-25T08:24:55.623627Z",
     "start_time": "2024-05-25T08:24:50.103327Z"
    }
   },
   "source": "spark = SparkSession.builder.master('local[*]').getOrCreate()",
   "outputs": [],
   "execution_count": 4
  },
  {
   "cell_type": "code",
   "metadata": {
    "collapsed": false,
    "ExecuteTime": {
     "end_time": "2024-05-25T08:24:58.423397Z",
     "start_time": "2024-05-25T08:24:58.415379Z"
    }
   },
   "source": [
    "print(spark.version)"
   ],
   "outputs": [
    {
     "name": "stdout",
     "output_type": "stream",
     "text": [
      "3.5.1\n"
     ]
    }
   ],
   "execution_count": 5
  },
  {
   "cell_type": "code",
   "metadata": {
    "collapsed": false,
    "ExecuteTime": {
     "end_time": "2024-05-25T10:41:04.997393Z",
     "start_time": "2024-05-25T10:41:02.681582Z"
    }
   },
   "source": [
    "actor_df = spark.read.csv('./data/actor.csv', header=True, inferSchema=True)\n",
    "address_df = spark.read.csv('./data/address.csv', header=True, inferSchema=True)\n",
    "category_df = spark.read.csv('./data/category.csv', header=True, inferSchema=True)\n",
    "city_df = spark.read.csv('./data/city.csv', header=True, inferSchema=True)\n",
    "country_df = spark.read.csv('./data/country.csv', header=True, inferSchema=True)\n",
    "customer_df = spark.read.csv('./data/customer.csv', header=True, inferSchema=True)\n",
    "film_df = spark.read.csv('./data/film.csv', header=True, inferSchema=True)\n",
    "film_actor_df = spark.read.csv('./data/film_actor.csv', header=True, inferSchema=True)\n",
    "film_category_df = spark.read.csv('./data/film_category.csv', header=True, inferSchema=True)\n",
    "inventory_df = spark.read.csv('./data/inventory.csv', header=True, inferSchema=True)\n",
    "language_df = spark.read.csv('./data/language.csv', header=True, inferSchema=True)\n",
    "payment_df = spark.read.csv('./data/payment.csv', header=True, inferSchema=True)\n",
    "rental_df = spark.read.csv('./data/rental.csv', header=True, inferSchema=True)\n",
    "staff_df = spark.read.csv('./data/staff.csv', header=True, inferSchema=True)\n",
    "store_df = spark.read.csv('./data/store.csv', header=True, inferSchema=True)"
   ],
   "outputs": [],
   "execution_count": 71
  },
  {
   "cell_type": "markdown",
   "metadata": {
    "collapsed": false
   },
   "source": [
    "# Домашнє завдання на тему Spark SQL\n",
    "\n",
    "Задачі з домашнього завдання на SQL потрібно розвʼязати за допомогою Spark SQL DataFrame API.\n",
    "\n",
    "- Дампи таблиць знаходяться в папці `data`. Датафрейми таблиць вже створені в клітинці вище.\n",
    "- Можете створювати стільки нових клітинок, скільки вам необхідно.\n",
    "- Розвʼязок кожної задачі має бути відображений в самому файлі (використати метод `.show()`)\n",
    "- код має бути оформлений у відповідності із одним із стилем, показаним лектором на занятті 13.\n",
    "\n",
    "**Увага!**\n",
    "Використовувати мову запитів SQL безпосередньо забороняється, потрібно використовувати виключно DataFrame API!\n"
   ]
  },
  {
   "cell_type": "markdown",
   "metadata": {
    "collapsed": false
   },
   "source": [
    "1.\n",
    "Вивести кількість фільмів в кожній категорії.\n",
    "Результат відсортувати за спаданням."
   ]
  },
  {
   "cell_type": "code",
   "metadata": {
    "collapsed": false,
    "ExecuteTime": {
     "end_time": "2024-05-25T10:41:10.065275Z",
     "start_time": "2024-05-25T10:41:09.800233Z"
    }
   },
   "source": [
    "df_joined = film_category_df.join(category_df, on=\"category_id\", how=\"left\")\n",
    "df_grouped = df_joined.groupBy(\"name\").count()\n",
    "df_ordered_group = df_grouped.orderBy(F.col(\"count\").desc()).show()"
   ],
   "outputs": [
    {
     "name": "stdout",
     "output_type": "stream",
     "text": [
      "+-----------+-----+\n",
      "|       name|count|\n",
      "+-----------+-----+\n",
      "|     Sports|   74|\n",
      "|    Foreign|   73|\n",
      "|     Family|   69|\n",
      "|Documentary|   68|\n",
      "|  Animation|   66|\n",
      "|     Action|   64|\n",
      "|        New|   63|\n",
      "|      Drama|   62|\n",
      "|      Games|   61|\n",
      "|     Sci-Fi|   61|\n",
      "|   Children|   60|\n",
      "|     Comedy|   58|\n",
      "|     Travel|   57|\n",
      "|   Classics|   57|\n",
      "|     Horror|   56|\n",
      "|      Music|   51|\n",
      "+-----------+-----+\n",
      "\n"
     ]
    }
   ],
   "execution_count": 72
  },
  {
   "cell_type": "markdown",
   "metadata": {
    "collapsed": false
   },
   "source": [
    "2.\n",
    "Вивести 10 акторів, чиї фільми брали на прокат найбільше.\n",
    "Результат відсортувати за спаданням."
   ]
  },
  {
   "cell_type": "code",
   "metadata": {
    "collapsed": false,
    "ExecuteTime": {
     "end_time": "2024-05-25T10:41:28.974287Z",
     "start_time": "2024-05-25T10:41:28.423728Z"
    }
   },
   "source": [
    "actor_df = actor_df.withColumn(\"full_name\", F.concat_ws(\" \", actor_df.first_name, actor_df.last_name))\n",
    "\n",
    "df_joined = film_actor_df.join(actor_df, on=\"actor_id\", how=\"left\")\\\n",
    "                            .join(film_df, on=\"film_id\", how=\"left\")\\\n",
    "                            .join(inventory_df, on=\"film_id\", how=\"left\")\\\n",
    "                            .join(rental_df, on=\"inventory_id\", how=\"left\")\n",
    "df_filtered = df_joined.filter(F.col(\"rental_id\").isNotNull())\n",
    "df_grouped = df_filtered.groupBy(\"full_name\").count()\n",
    "df_ordered_group = df_grouped.orderBy(F.col(\"count\").desc()).show(10)\n"
   ],
   "outputs": [
    {
     "name": "stdout",
     "output_type": "stream",
     "text": [
      "+------------------+-----+\n",
      "|         full_name|count|\n",
      "+------------------+-----+\n",
      "|       SUSAN DAVIS|  825|\n",
      "|    GINA DEGENERES|  753|\n",
      "|    MATTHEW CARREY|  678|\n",
      "|       MARY KEITEL|  674|\n",
      "|ANGELA WITHERSPOON|  654|\n",
      "|       WALTER TORN|  640|\n",
      "|       HENRY BERRY|  612|\n",
      "|       JAYNE NOLTE|  611|\n",
      "|        VAL BOLGER|  605|\n",
      "|     SANDRA KILMER|  604|\n",
      "+------------------+-----+\n",
      "only showing top 10 rows\n",
      "\n"
     ]
    }
   ],
   "execution_count": 73
  },
  {
   "cell_type": "markdown",
   "metadata": {
    "collapsed": false
   },
   "source": [
    "3.\n",
    "Вивести категорія фільмів, на яку було витрачено найбільше грошей\n",
    "в прокаті"
   ]
  },
  {
   "cell_type": "code",
   "metadata": {
    "collapsed": false,
    "ExecuteTime": {
     "end_time": "2024-05-25T10:41:41.820321Z",
     "start_time": "2024-05-25T10:41:41.420120Z"
    }
   },
   "source": [
    "category_df = category_df.withColumnRenamed(\"name\", \"category_name\")\n",
    "df_joined = payment_df.join(rental_df, on=\"rental_id\", how=\"left\")\\\n",
    "                            .join(inventory_df, on=\"inventory_id\", how=\"left\")\\\n",
    "                            .join(film_df, on=\"film_id\", how=\"left\")\\\n",
    "                            .join(film_category_df, on=\"film_id\", how=\"left\")\\\n",
    "                            .join(category_df, on=\"category_id\", how=\"left\")\n",
    "\n",
    "df_grouped = df_joined.groupBy(\"category_name\").agg(F.sum(\"amount\").alias(\"total_amount\"))\n",
    "df_ordered_group = df_grouped.orderBy(F.col(\"total_amount\").desc()).show(1)"
   ],
   "outputs": [
    {
     "name": "stdout",
     "output_type": "stream",
     "text": [
      "+-------------+-----------------+\n",
      "|category_name|     total_amount|\n",
      "+-------------+-----------------+\n",
      "|       Sports|5314.209999999847|\n",
      "+-------------+-----------------+\n",
      "only showing top 1 row\n",
      "\n"
     ]
    }
   ],
   "execution_count": 74
  },
  {
   "cell_type": "markdown",
   "metadata": {
    "collapsed": false
   },
   "source": [
    "4.\n",
    "Вивести назви фільмів, яких не має в inventory."
   ]
  },
  {
   "cell_type": "code",
   "metadata": {
    "collapsed": false,
    "ExecuteTime": {
     "end_time": "2024-05-25T10:41:46.166844Z",
     "start_time": "2024-05-25T10:41:46.042837Z"
    }
   },
   "source": [
    "df_not_in_inventory = film_df.join(inventory_df, on=\"film_id\", how=\"left_anti\")\n",
    "df_not_in_inventory.select(\"title\").show()"
   ],
   "outputs": [
    {
     "name": "stdout",
     "output_type": "stream",
     "text": [
      "+--------------------+\n",
      "|               title|\n",
      "+--------------------+\n",
      "|      ALICE FANTASIA|\n",
      "|         APOLLO TEEN|\n",
      "|      ARGONAUTS TOWN|\n",
      "|       ARK RIDGEMONT|\n",
      "|ARSENIC INDEPENDENCE|\n",
      "|   BOONDOCK BALLROOM|\n",
      "|       BUTCH PANTHER|\n",
      "|       CATCH AMISTAD|\n",
      "| CHINATOWN GLADIATOR|\n",
      "|      CHOCOLATE DUCK|\n",
      "|COMMANDMENTS EXPRESS|\n",
      "|    CROSSING DIVORCE|\n",
      "|     CROWDS TELEMARK|\n",
      "|    CRYSTAL BREAKING|\n",
      "|          DAZED PUNK|\n",
      "|DELIVERANCE MULHO...|\n",
      "|   FIREHOUSE VIETNAM|\n",
      "|       FLOATS GARDEN|\n",
      "|FRANKENSTEIN STRA...|\n",
      "|  GLADIATOR WESTWARD|\n",
      "+--------------------+\n",
      "only showing top 20 rows\n",
      "\n"
     ]
    }
   ],
   "execution_count": 75
  },
  {
   "cell_type": "markdown",
   "metadata": {
    "collapsed": false
   },
   "source": [
    "5.\n",
    "Вивести топ 3 актори, які найбільше зʼявлялись в категорії фільмів “Children”"
   ]
  },
  {
   "cell_type": "code",
   "metadata": {
    "collapsed": false,
    "pycharm": {
     "is_executing": true
    },
    "ExecuteTime": {
     "end_time": "2024-05-25T10:41:51.954425Z",
     "start_time": "2024-05-25T10:41:51.535318Z"
    }
   },
   "source": [
    "actor_df = actor_df.withColumn(\"full_name\", F.concat_ws(\" \", actor_df.first_name, actor_df.last_name))\n",
    "category_df = category_df.withColumnRenamed(\"name\", \"category_name\")\n",
    "\n",
    "df_joined = film_actor_df.join(actor_df, on=\"actor_id\", how=\"left\")\\\n",
    "                            .join(film_df, on=\"film_id\", how=\"left\")\\\n",
    "                            .join(film_category_df, on=\"film_id\", how=\"left\")\\\n",
    "                            .join(category_df, on=\"category_id\", how=\"left\")\n",
    "\n",
    "df_filtered = df_joined.filter(F.col(\"category_name\").isin([\"Children\"]))\n",
    "df_grouped = df_filtered.groupBy(\"full_name\").count()\n",
    "df_ordered_group = df_grouped.orderBy(F.col(\"count\").desc()).show(3)\n"
   ],
   "outputs": [
    {
     "name": "stdout",
     "output_type": "stream",
     "text": [
      "+------------+-----+\n",
      "|   full_name|count|\n",
      "+------------+-----+\n",
      "|HELEN VOIGHT|    7|\n",
      "| SUSAN DAVIS|    6|\n",
      "|  MARY TANDY|    5|\n",
      "+------------+-----+\n",
      "only showing top 3 rows\n",
      "\n"
     ]
    }
   ],
   "execution_count": 76
  },
  {
   "cell_type": "markdown",
   "metadata": {
    "collapsed": false
   },
   "source": [
    "Stop Spark session:"
   ]
  },
  {
   "cell_type": "code",
   "metadata": {
    "collapsed": false,
    "ExecuteTime": {
     "end_time": "2024-05-25T10:41:59.158203Z",
     "start_time": "2024-05-25T10:41:58.206843Z"
    }
   },
   "source": [
    "spark.stop()"
   ],
   "outputs": [],
   "execution_count": 77
  },
  {
   "metadata": {},
   "cell_type": "code",
   "outputs": [],
   "execution_count": null,
   "source": ""
  }
 ],
 "metadata": {
  "kernelspec": {
   "display_name": "Python 3",
   "language": "python",
   "name": "python3"
  },
  "language_info": {
   "codemirror_mode": {
    "name": "ipython",
    "version": 2
   },
   "file_extension": ".py",
   "mimetype": "text/x-python",
   "name": "python",
   "nbconvert_exporter": "python",
   "pygments_lexer": "ipython2",
   "version": "2.7.6"
  }
 },
 "nbformat": 4,
 "nbformat_minor": 0
}
